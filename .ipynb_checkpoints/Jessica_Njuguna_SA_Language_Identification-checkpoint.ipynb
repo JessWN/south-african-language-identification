{
 "cells": [
  {
   "cell_type": "markdown",
   "id": "9042a1b9",
   "metadata": {},
   "source": [
    "### IMPORTING PACKAGES"
   ]
  },
  {
   "cell_type": "code",
   "execution_count": 51,
   "id": "39bfa000",
   "metadata": {},
   "outputs": [],
   "source": [
    "import pandas as pd\n",
    "import numpy as np\n",
    "import matplotlib.pyplot as plt\n",
    "\n",
    "import re\n",
    "from sklearn.preprocessing import LabelEncoder\n",
    "from sklearn.feature_extraction.text import TfidfTransformer\n",
    "from sklearn.feature_extraction.text import CountVectorizer\n",
    "\n",
    "from sklearn.model_selection import train_test_split, GridSearchCV\n",
    "from sklearn.pipeline import Pipeline\n",
    "\n",
    "from sklearn.naive_bayes import MultinomialNB\n",
    "from sklearn.svm import LinearSVC\n",
    "\n",
    "\n",
    "from sklearn.metrics import accuracy_score, confusion_matrix, classification_report, f1_score"
   ]
  },
  {
   "cell_type": "markdown",
   "id": "db2532ae",
   "metadata": {},
   "source": [
    "### IMPORTING DATA"
   ]
  },
  {
   "cell_type": "code",
   "execution_count": 2,
   "id": "1d45b374",
   "metadata": {},
   "outputs": [],
   "source": [
    "raw_train_df = pd.read_csv('data/train_set.csv')\n",
    "raw_test_df = pd.read_csv('data/test_set.csv')"
   ]
  },
  {
   "cell_type": "markdown",
   "id": "59cf9cd7",
   "metadata": {},
   "source": [
    "### EXPLORATORY DATA ANALYSIS"
   ]
  },
  {
   "cell_type": "code",
   "execution_count": 3,
   "id": "36064ce4",
   "metadata": {},
   "outputs": [],
   "source": [
    "train_df = raw_train_df.copy(deep = True)\n",
    "test_df = raw_test_df.copy(deep = True)"
   ]
  },
  {
   "cell_type": "code",
   "execution_count": 4,
   "id": "c0e0e42c",
   "metadata": {},
   "outputs": [
    {
     "data": {
      "text/html": [
       "<div>\n",
       "<style scoped>\n",
       "    .dataframe tbody tr th:only-of-type {\n",
       "        vertical-align: middle;\n",
       "    }\n",
       "\n",
       "    .dataframe tbody tr th {\n",
       "        vertical-align: top;\n",
       "    }\n",
       "\n",
       "    .dataframe thead th {\n",
       "        text-align: right;\n",
       "    }\n",
       "</style>\n",
       "<table border=\"1\" class=\"dataframe\">\n",
       "  <thead>\n",
       "    <tr style=\"text-align: right;\">\n",
       "      <th></th>\n",
       "      <th>lang_id</th>\n",
       "      <th>text</th>\n",
       "    </tr>\n",
       "  </thead>\n",
       "  <tbody>\n",
       "    <tr>\n",
       "      <th>0</th>\n",
       "      <td>xho</td>\n",
       "      <td>umgaqo-siseko wenza amalungiselelo kumaziko ax...</td>\n",
       "    </tr>\n",
       "    <tr>\n",
       "      <th>1</th>\n",
       "      <td>xho</td>\n",
       "      <td>i-dha iya kuba nobulumko bokubeka umsebenzi na...</td>\n",
       "    </tr>\n",
       "    <tr>\n",
       "      <th>2</th>\n",
       "      <td>eng</td>\n",
       "      <td>the province of kwazulu-natal department of tr...</td>\n",
       "    </tr>\n",
       "    <tr>\n",
       "      <th>3</th>\n",
       "      <td>nso</td>\n",
       "      <td>o netefatša gore o ba file dilo ka moka tše le...</td>\n",
       "    </tr>\n",
       "    <tr>\n",
       "      <th>4</th>\n",
       "      <td>ven</td>\n",
       "      <td>khomishini ya ndinganyiso ya mbeu yo ewa maana...</td>\n",
       "    </tr>\n",
       "  </tbody>\n",
       "</table>\n",
       "</div>"
      ],
      "text/plain": [
       "  lang_id                                               text\n",
       "0     xho  umgaqo-siseko wenza amalungiselelo kumaziko ax...\n",
       "1     xho  i-dha iya kuba nobulumko bokubeka umsebenzi na...\n",
       "2     eng  the province of kwazulu-natal department of tr...\n",
       "3     nso  o netefatša gore o ba file dilo ka moka tše le...\n",
       "4     ven  khomishini ya ndinganyiso ya mbeu yo ewa maana..."
      ]
     },
     "execution_count": 4,
     "metadata": {},
     "output_type": "execute_result"
    }
   ],
   "source": [
    "train_df.head()"
   ]
  },
  {
   "cell_type": "code",
   "execution_count": 5,
   "id": "7a3277be",
   "metadata": {},
   "outputs": [
    {
     "data": {
      "text/plain": [
       "(33000, 2)"
      ]
     },
     "execution_count": 5,
     "metadata": {},
     "output_type": "execute_result"
    }
   ],
   "source": [
    "train_df.shape"
   ]
  },
  {
   "cell_type": "code",
   "execution_count": 6,
   "id": "d3fee47e",
   "metadata": {},
   "outputs": [
    {
     "name": "stdout",
     "output_type": "stream",
     "text": [
      "<class 'pandas.core.frame.DataFrame'>\n",
      "RangeIndex: 33000 entries, 0 to 32999\n",
      "Data columns (total 2 columns):\n",
      " #   Column   Non-Null Count  Dtype \n",
      "---  ------   --------------  ----- \n",
      " 0   lang_id  33000 non-null  object\n",
      " 1   text     33000 non-null  object\n",
      "dtypes: object(2)\n",
      "memory usage: 515.8+ KB\n"
     ]
    }
   ],
   "source": [
    "train_df.info()"
   ]
  },
  {
   "cell_type": "markdown",
   "id": "a45213ef",
   "metadata": {},
   "source": [
    "Two columns lang_id and text"
   ]
  },
  {
   "cell_type": "code",
   "execution_count": 7,
   "id": "f17cdbeb",
   "metadata": {},
   "outputs": [
    {
     "data": {
      "text/plain": [
       "lang_id    0\n",
       "text       0\n",
       "dtype: int64"
      ]
     },
     "execution_count": 7,
     "metadata": {},
     "output_type": "execute_result"
    }
   ],
   "source": [
    "train_df.isna().sum()"
   ]
  },
  {
   "cell_type": "markdown",
   "id": "76060044",
   "metadata": {},
   "source": [
    "No null values present"
   ]
  },
  {
   "cell_type": "code",
   "execution_count": 8,
   "id": "709ee239",
   "metadata": {},
   "outputs": [
    {
     "data": {
      "image/png": "[encoded data removed]",
      "text/plain": [
       "<Figure size 432x288 with 1 Axes>"
      ]
     },
     "metadata": {
      "needs_background": "light"
     },
     "output_type": "display_data"
    }
   ],
   "source": [
    "train_df['lang_id'].value_counts().plot(kind = 'barh', \n",
    "                                        title = 'Language Distribution', \n",
    "                                        xlabel = 'Language',\n",
    "                                        ylabel = 'Frequency')\n",
    "plt.show()"
   ]
  },
  {
   "cell_type": "markdown",
   "id": "64dbb3cd",
   "metadata": {},
   "source": [
    "The data is balanced"
   ]
  },
  {
   "cell_type": "code",
   "execution_count": 9,
   "id": "62b46a2a",
   "metadata": {},
   "outputs": [
    {
     "data": {
      "text/plain": [
       "29948"
      ]
     },
     "execution_count": 9,
     "metadata": {},
     "output_type": "execute_result"
    }
   ],
   "source": [
    "len(train_df['text'].unique())"
   ]
  },
  {
   "cell_type": "markdown",
   "id": "cde45a57",
   "metadata": {},
   "source": [
    "The data contains duplicates"
   ]
  },
  {
   "cell_type": "code",
   "execution_count": 10,
   "id": "9ef84aa4",
   "metadata": {},
   "outputs": [
    {
     "data": {
      "text/plain": [
       "(3052, 2)"
      ]
     },
     "execution_count": 10,
     "metadata": {},
     "output_type": "execute_result"
    }
   ],
   "source": [
    "train_df[train_df.duplicated(['text'])].shape"
   ]
  },
  {
   "cell_type": "markdown",
   "id": "06c24732",
   "metadata": {},
   "source": [
    "3,052 texts are duplicates"
   ]
  },
  {
   "cell_type": "code",
   "execution_count": 11,
   "id": "297c73df",
   "metadata": {},
   "outputs": [
    {
     "data": {
      "text/html": [
       "<div>\n",
       "<style scoped>\n",
       "    .dataframe tbody tr th:only-of-type {\n",
       "        vertical-align: middle;\n",
       "    }\n",
       "\n",
       "    .dataframe tbody tr th {\n",
       "        vertical-align: top;\n",
       "    }\n",
       "\n",
       "    .dataframe thead th {\n",
       "        text-align: right;\n",
       "    }\n",
       "</style>\n",
       "<table border=\"1\" class=\"dataframe\">\n",
       "  <thead>\n",
       "    <tr style=\"text-align: right;\">\n",
       "      <th></th>\n",
       "      <th>lang_id</th>\n",
       "      <th>text</th>\n",
       "    </tr>\n",
       "  </thead>\n",
       "  <tbody>\n",
       "  </tbody>\n",
       "</table>\n",
       "</div>"
      ],
      "text/plain": [
       "Empty DataFrame\n",
       "Columns: [lang_id, text]\n",
       "Index: []"
      ]
     },
     "execution_count": 11,
     "metadata": {},
     "output_type": "execute_result"
    }
   ],
   "source": [
    "train_df.groupby('text').filter(lambda x: len(x['lang_id'].unique()) > 1)"
   ]
  },
  {
   "cell_type": "markdown",
   "id": "b824dff2",
   "metadata": {},
   "source": [
    "None of the duplicates contain conflicting data"
   ]
  },
  {
   "cell_type": "markdown",
   "id": "425d8631",
   "metadata": {},
   "source": [
    "### FEATURE ENGINEERING"
   ]
  },
  {
   "cell_type": "markdown",
   "id": "5475326d",
   "metadata": {},
   "source": [
    "#### Label_encoding "
   ]
  },
  {
   "cell_type": "code",
   "execution_count": 12,
   "id": "44e60b0b",
   "metadata": {},
   "outputs": [
    {
     "data": {
      "text/plain": [
       "0     3000\n",
       "1     3000\n",
       "2     3000\n",
       "3     3000\n",
       "4     3000\n",
       "5     3000\n",
       "6     3000\n",
       "7     3000\n",
       "8     3000\n",
       "9     3000\n",
       "10    3000\n",
       "Name: lang_id, dtype: int64"
      ]
     },
     "execution_count": 12,
     "metadata": {},
     "output_type": "execute_result"
    }
   ],
   "source": [
    "le = LabelEncoder()\n",
    "le.fit(train_df['lang_id'])\n",
    "train_df['lang_id'] = le.transform(train_df['lang_id'])\n",
    "train_df['lang_id'].value_counts()"
   ]
  },
  {
   "cell_type": "markdown",
   "id": "6127fb0f",
   "metadata": {},
   "source": [
    "There are 10 languages present in the data set. Label Encoder turns the language id from text to numerical figres that the model can identify"
   ]
  },
  {
   "cell_type": "code",
   "execution_count": 13,
   "id": "5df30033",
   "metadata": {},
   "outputs": [
    {
     "data": {
      "text/plain": [
       "0    umgaqo-siseko wenza amalungiselelo kumaziko ax...\n",
       "1    i-dha iya kuba nobulumko bokubeka umsebenzi na...\n",
       "2    the province of kwazulu-natal department of tr...\n",
       "3    o netefatša gore o ba file dilo ka moka tše le...\n",
       "4    khomishini ya ndinganyiso ya mbeu yo ewa maana...\n",
       "Name: text, dtype: object"
      ]
     },
     "execution_count": 13,
     "metadata": {},
     "output_type": "execute_result"
    }
   ],
   "source": [
    "train_df['text'].head()"
   ]
  },
  {
   "cell_type": "markdown",
   "id": "46f82901",
   "metadata": {},
   "source": [
    "There is some punctuations in the data set that we will clean before vectorizing"
   ]
  },
  {
   "cell_type": "code",
   "execution_count": 14,
   "id": "099ef23e",
   "metadata": {},
   "outputs": [],
   "source": [
    "X = train_df['text']\n",
    "y = train_df['lang_id']"
   ]
  },
  {
   "cell_type": "markdown",
   "id": "394783e6",
   "metadata": {},
   "source": [
    "We split the features and labels above and define a function that cleans the text data"
   ]
  },
  {
   "cell_type": "code",
   "execution_count": 15,
   "id": "5045163a",
   "metadata": {},
   "outputs": [
    {
     "name": "stderr",
     "output_type": "stream",
     "text": [
      "<ipython-input-15-f9874cd243d8>:5: FutureWarning: Possible nested set at position 1\n",
      "  t = re.sub(r'[[]]', ' ', t)\n"
     ]
    }
   ],
   "source": [
    "def preprocess(text):\n",
    "    #create an empty list\n",
    "    text_list = []\n",
    "    \n",
    "    #iterate through every word in the row\n",
    "    for t in text:\n",
    "        #remove any punctuation and numbers\n",
    "        t = re.sub(r'[!@#$(),n\"%^*?:;~`0-9]', ' ', t)\n",
    "        \n",
    "        #remove any square brackets present\n",
    "        t = re.sub(r'[[]]', ' ', t)\n",
    "        # converting the text to lower case\n",
    "        t = t.lower()\n",
    "        #appending to data_list\n",
    "        text_list.append(t)\n",
    "    #return the cleaned text as a string    \n",
    "    text = ''.join(text_list)\n",
    "    return text\n",
    "#apply the function to the text data\n",
    "pre_X = train_df['text'].apply(lambda x: preprocess(x))\n"
   ]
  },
  {
   "cell_type": "code",
   "execution_count": 16,
   "id": "b79e4588",
   "metadata": {},
   "outputs": [
    {
     "data": {
      "text/plain": [
       "(33000,)"
      ]
     },
     "execution_count": 16,
     "metadata": {},
     "output_type": "execute_result"
    }
   ],
   "source": [
    "pre_X.shape"
   ]
  },
  {
   "cell_type": "code",
   "execution_count": 17,
   "id": "1962c7f6",
   "metadata": {},
   "outputs": [],
   "source": [
    "#Initalize the vectorizer\n",
    "cv = CountVectorizer()\n",
    "#fit it into the cleaned text to create a dictionary\n",
    "cv.fit(pre_X)\n",
    "\n",
    "#transform the cleaned text to return figures\n",
    "\n",
    "X_cv = cv.transform(pre_X)"
   ]
  },
  {
   "cell_type": "code",
   "execution_count": 19,
   "id": "877c47fa",
   "metadata": {},
   "outputs": [],
   "source": [
    "#split the data set into 80% train and 20% test\n",
    "X_cv_train, X_cv_test, y_train, y_test = train_test_split(X_cv,y,\n",
    "                                                   test_size = 0.2)"
   ]
  },
  {
   "cell_type": "markdown",
   "id": "fc30be79",
   "metadata": {},
   "source": [
    "### Modelling and Model Evaluation"
   ]
  },
  {
   "cell_type": "markdown",
   "id": "eba41ed1",
   "metadata": {},
   "source": [
    "#### Multinomial Naive Bayes"
   ]
  },
  {
   "cell_type": "code",
   "execution_count": 21,
   "id": "95fe27c8",
   "metadata": {},
   "outputs": [
    {
     "data": {
      "text/plain": [
       "MultinomialNB(alpha=1)"
      ]
     },
     "execution_count": 21,
     "metadata": {},
     "output_type": "execute_result"
    }
   ],
   "source": [
    "#Initialize the model and fit it into the train set\n",
    "cv_mnb = MultinomialNB(alpha = 1)\n",
    "cv_mnb.fit(X_cv_train, y_train)"
   ]
  },
  {
   "cell_type": "code",
   "execution_count": 23,
   "id": "608735a7",
   "metadata": {},
   "outputs": [],
   "source": [
    "#predict the test data\n",
    "y_cv_pred = cv_mnb.predict(X_cv_test)"
   ]
  },
  {
   "cell_type": "code",
   "execution_count": 25,
   "id": "bc7a7a65",
   "metadata": {},
   "outputs": [
    {
     "name": "stdout",
     "output_type": "stream",
     "text": [
      "Accuracy is : 0.9989393939393939\n",
      "F1 score is : 0.998939378720678\n"
     ]
    }
   ],
   "source": [
    "#evaluate the perfomance for the model\n",
    "\n",
    "ac = accuracy_score(y_test, y_cv_pred)\n",
    "cm = confusion_matrix(y_test, y_cv_pred)\n",
    "f1 = f1_score(y_test, y_cv_pred, average = 'weighted')\n",
    "cr = classification_report(y_test, y_cv_pred, digits=4)\n",
    "print(\"Accuracy is :\",ac)\n",
    "print(\"F1 score is :\",f1)\n"
   ]
  },
  {
   "cell_type": "markdown",
   "id": "b498e81c",
   "metadata": {},
   "source": [
    "It is a very well perfoming model with accuracy and f1 of almost 1"
   ]
  },
  {
   "cell_type": "code",
   "execution_count": 26,
   "id": "5b92f1de",
   "metadata": {},
   "outputs": [
    {
     "data": {
      "text/plain": [
       "{'alpha': 1, 'class_prior': None, 'fit_prior': True}"
      ]
     },
     "execution_count": 26,
     "metadata": {},
     "output_type": "execute_result"
    }
   ],
   "source": [
    "cv_mnb.get_params()"
   ]
  },
  {
   "cell_type": "code",
   "execution_count": 27,
   "id": "172e5111",
   "metadata": {},
   "outputs": [
    {
     "name": "stdout",
     "output_type": "stream",
     "text": [
      "              precision    recall  f1-score   support\n",
      "\n",
      "           0     1.0000    1.0000    1.0000       575\n",
      "           1     0.9983    1.0000    0.9992       597\n",
      "           2     0.9952    0.9984    0.9968       628\n",
      "           3     0.9982    0.9982    0.9982       566\n",
      "           4     1.0000    1.0000    1.0000       644\n",
      "           5     1.0000    1.0000    1.0000       585\n",
      "           6     0.9983    0.9983    0.9983       581\n",
      "           7     1.0000    1.0000    1.0000       619\n",
      "           8     1.0000    1.0000    1.0000       598\n",
      "           9     1.0000    0.9983    0.9992       596\n",
      "          10     0.9984    0.9951    0.9967       611\n",
      "\n",
      "    accuracy                         0.9989      6600\n",
      "   macro avg     0.9989    0.9989    0.9989      6600\n",
      "weighted avg     0.9989    0.9989    0.9989      6600\n",
      "\n"
     ]
    }
   ],
   "source": [
    "print(cr)"
   ]
  },
  {
   "cell_type": "markdown",
   "id": "45fa5f54",
   "metadata": {},
   "source": [
    "#### Linear SVC"
   ]
  },
  {
   "cell_type": "markdown",
   "id": "09b91f85",
   "metadata": {},
   "source": [
    "Perform the same for the Linear SVC"
   ]
  },
  {
   "cell_type": "code",
   "execution_count": 28,
   "id": "909acbbd",
   "metadata": {},
   "outputs": [],
   "source": [
    "svc = LinearSVC()\n",
    "svc.fit(X_train, y_train)\n",
    "svc_pred = svc.predict(X_test)"
   ]
  },
  {
   "cell_type": "code",
   "execution_count": 29,
   "id": "6a9163e7",
   "metadata": {},
   "outputs": [
    {
     "name": "stderr",
     "output_type": "stream",
     "text": [
      "C:\\Users\\USER\\SeraApps\\anaconda\\lib\\site-packages\\sklearn\\svm\\_base.py:1206: ConvergenceWarning: Liblinear failed to converge, increase the number of iterations.\n",
      "  warnings.warn(\n"
     ]
    }
   ],
   "source": [
    "svc_cv = LinearSVC()\n",
    "svc_cv.fit(X_cv_train, y_train)\n",
    "y_cv_pred = svc_cv.predict(X_cv_test)"
   ]
  },
  {
   "cell_type": "code",
   "execution_count": 31,
   "id": "17dde49f",
   "metadata": {},
   "outputs": [
    {
     "name": "stdout",
     "output_type": "stream",
     "text": [
      "Accuracy is : 0.9962121212121212\n",
      "F1 score is : 0.9962099913402458\n"
     ]
    }
   ],
   "source": [
    "ac = accuracy_score(y_test, y_cv_pred)\n",
    "cm = confusion_matrix(y_test, y_cv_pred)\n",
    "f1 = f1_score(y_test, y_cv_pred, average = 'weighted')\n",
    "cr = classification_report(y_test, y_cv_pred)\n",
    "print(\"Accuracy is :\",ac)\n",
    "print(\"F1 score is :\",f1)"
   ]
  },
  {
   "cell_type": "markdown",
   "id": "9cdcdcb7",
   "metadata": {},
   "source": [
    "The performance is good however it is below the Multinomial Naive Bayes by approximately 0.002"
   ]
  },
  {
   "cell_type": "code",
   "execution_count": 32,
   "id": "11a4abd7",
   "metadata": {},
   "outputs": [
    {
     "name": "stdout",
     "output_type": "stream",
     "text": [
      "              precision    recall  f1-score   support\n",
      "\n",
      "           0       1.00      1.00      1.00       575\n",
      "           1       1.00      1.00      1.00       597\n",
      "           2       0.99      0.99      0.99       628\n",
      "           3       1.00      0.99      1.00       566\n",
      "           4       1.00      1.00      1.00       644\n",
      "           5       0.99      1.00      1.00       585\n",
      "           6       0.99      1.00      1.00       581\n",
      "           7       1.00      1.00      1.00       619\n",
      "           8       1.00      1.00      1.00       598\n",
      "           9       1.00      0.99      0.99       596\n",
      "          10       0.99      0.98      0.98       611\n",
      "\n",
      "    accuracy                           1.00      6600\n",
      "   macro avg       1.00      1.00      1.00      6600\n",
      "weighted avg       1.00      1.00      1.00      6600\n",
      "\n"
     ]
    }
   ],
   "source": [
    "print(cr)"
   ]
  },
  {
   "cell_type": "markdown",
   "id": "5e7cf0db",
   "metadata": {},
   "source": [
    "#### Optimizing the model"
   ]
  },
  {
   "cell_type": "markdown",
   "id": "a95852e5",
   "metadata": {},
   "source": [
    "We optimize the Multinomial Naive Bayes using GridSearchCV. This was the model for the final submission"
   ]
  },
  {
   "cell_type": "code",
   "execution_count": 48,
   "id": "4a0e9b0a",
   "metadata": {},
   "outputs": [],
   "source": [
    "X_otrain, X_otest, y_otrain, y_otest = train_test_split(pre_X,y,\n",
    "                                                   test_size = 0.3, random_state = 42)"
   ]
  },
  {
   "cell_type": "code",
   "execution_count": 58,
   "id": "c7aa785f",
   "metadata": {},
   "outputs": [],
   "source": [
    "text_clf = Pipeline([('vect', CountVectorizer()),\n",
    "                     ('clf', MultinomialNB())])\n",
    "\n",
    "tuned_parameters = {\n",
    "    'vect__ngram_range': [(1, 1), (1, 2), (2, 2)],\n",
    "    'clf__alpha': [1, 1e-1, 1e-2]\n",
    "}"
   ]
  },
  {
   "cell_type": "code",
   "execution_count": 59,
   "id": "2f03b6f1",
   "metadata": {},
   "outputs": [
    {
     "name": "stdout",
     "output_type": "stream",
     "text": [
      "# Tuning hyper-parameters for f1_macro\n",
      "Best parameters set found on development set:\n",
      "{'clf__alpha': 0.1, 'vect__ngram_range': (1, 2)}\n",
      "Detailed classification report:\n",
      "              precision    recall  f1-score   support\n",
      "\n",
      "           0     0.9989    1.0000    0.9994       895\n",
      "           1     0.9989    1.0000    0.9995       909\n",
      "           2     0.9977    0.9977    0.9977       879\n",
      "           3     0.9989    0.9979    0.9984       941\n",
      "           4     0.9978    1.0000    0.9989       918\n",
      "           5     1.0000    1.0000    1.0000       908\n",
      "           6     1.0000    0.9977    0.9989       882\n",
      "           7     1.0000    1.0000    1.0000       857\n",
      "           8     1.0000    1.0000    1.0000       936\n",
      "           9     0.9989    0.9989    0.9989       922\n",
      "          10     0.9988    0.9977    0.9982       853\n",
      "\n",
      "    accuracy                         0.9991      9900\n",
      "   macro avg     0.9991    0.9991    0.9991      9900\n",
      "weighted avg     0.9991    0.9991    0.9991      9900\n",
      "\n"
     ]
    }
   ],
   "source": [
    "score = 'f1_macro'\n",
    "print(\"# Tuning hyper-parameters for %s\" % score)\n",
    "np.errstate(divide='ignore')\n",
    "\n",
    "clf = GridSearchCV(text_clf, tuned_parameters, cv=10, scoring=score)\n",
    "clf.fit(X_otrain, y_otrain)\n",
    "\n",
    "print(\"Best parameters set found on development set:\")\n",
    "print(clf.best_params_)\n",
    "\n",
    "print(\"Detailed classification report:\")\n",
    "print(classification_report(y_otest, clf.predict(X_otest), digits=4))"
   ]
  },
  {
   "cell_type": "code",
   "execution_count": 60,
   "id": "c6a728b2",
   "metadata": {},
   "outputs": [
    {
     "name": "stdout",
     "output_type": "stream",
     "text": [
      "0.9990907908991812\n"
     ]
    }
   ],
   "source": [
    "print(f1_score(y_otest, clf.predict(X_otest), average = 'weighted'))"
   ]
  },
  {
   "cell_type": "markdown",
   "id": "0bb76672",
   "metadata": {},
   "source": [
    "The accuracy is better by a small margin. However, the classification report shows better perfomance for all the languages. "
   ]
  },
  {
   "cell_type": "markdown",
   "id": "85d20f04",
   "metadata": {},
   "source": [
    "#### Kaggle Submission"
   ]
  },
  {
   "cell_type": "code",
   "execution_count": 37,
   "id": "a6bcf917",
   "metadata": {},
   "outputs": [],
   "source": [
    "test_df['text'] = test_df['text'].apply(lambda x: preprocess(x))\n",
    "test_text = test_df['text']"
   ]
  },
  {
   "cell_type": "code",
   "execution_count": 38,
   "id": "04fce436",
   "metadata": {},
   "outputs": [
    {
     "name": "stdout",
     "output_type": "stream",
     "text": [
      "<class 'pandas.core.frame.DataFrame'>\n",
      "RangeIndex: 5682 entries, 0 to 5681\n",
      "Data columns (total 2 columns):\n",
      " #   Column  Non-Null Count  Dtype \n",
      "---  ------  --------------  ----- \n",
      " 0   index   5682 non-null   int64 \n",
      " 1   text    5682 non-null   object\n",
      "dtypes: int64(1), object(1)\n",
      "memory usage: 88.9+ KB\n"
     ]
    }
   ],
   "source": [
    "test_df.info()"
   ]
  },
  {
   "cell_type": "code",
   "execution_count": 39,
   "id": "072f6f1d",
   "metadata": {},
   "outputs": [
    {
     "data": {
      "text/plain": [
       "(5682,)"
      ]
     },
     "execution_count": 39,
     "metadata": {},
     "output_type": "execute_result"
    }
   ],
   "source": [
    "test_text.shape"
   ]
  },
  {
   "cell_type": "code",
   "execution_count": 40,
   "id": "14edda99",
   "metadata": {},
   "outputs": [],
   "source": [
    "test_X = cv.transform(test_text)"
   ]
  },
  {
   "cell_type": "markdown",
   "id": "468f88f7",
   "metadata": {},
   "source": [
    "##### MultiNominal Naive Bayes"
   ]
  },
  {
   "cell_type": "code",
   "execution_count": 41,
   "id": "40e186a2",
   "metadata": {},
   "outputs": [],
   "source": [
    "test_pred = cv_mnb.predict(test_X)"
   ]
  },
  {
   "cell_type": "code",
   "execution_count": 42,
   "id": "22c9b272",
   "metadata": {},
   "outputs": [],
   "source": [
    "test_lang_id = le.inverse_transform(test_pred)"
   ]
  },
  {
   "cell_type": "code",
   "execution_count": 43,
   "id": "c304620e",
   "metadata": {},
   "outputs": [],
   "source": [
    "sub_id = test_df['index'].to_list()\n",
    "sub_pred = test_lang_id.tolist()\n",
    "list_of_tuples = list(zip(sub_id, sub_pred))\n",
    "submission_df = pd.DataFrame(list_of_tuples,\n",
    "                  columns = ['index', 'lang_id'])\n",
    "submission_df.set_index('index', inplace=True)"
   ]
  },
  {
   "cell_type": "code",
   "execution_count": 44,
   "id": "c7938e0f",
   "metadata": {},
   "outputs": [
    {
     "data": {
      "text/html": [
       "<div>\n",
       "<style scoped>\n",
       "    .dataframe tbody tr th:only-of-type {\n",
       "        vertical-align: middle;\n",
       "    }\n",
       "\n",
       "    .dataframe tbody tr th {\n",
       "        vertical-align: top;\n",
       "    }\n",
       "\n",
       "    .dataframe thead th {\n",
       "        text-align: right;\n",
       "    }\n",
       "</style>\n",
       "<table border=\"1\" class=\"dataframe\">\n",
       "  <thead>\n",
       "    <tr style=\"text-align: right;\">\n",
       "      <th></th>\n",
       "      <th>lang_id</th>\n",
       "    </tr>\n",
       "    <tr>\n",
       "      <th>index</th>\n",
       "      <th></th>\n",
       "    </tr>\n",
       "  </thead>\n",
       "  <tbody>\n",
       "    <tr>\n",
       "      <th>1</th>\n",
       "      <td>tsn</td>\n",
       "    </tr>\n",
       "    <tr>\n",
       "      <th>2</th>\n",
       "      <td>nbl</td>\n",
       "    </tr>\n",
       "    <tr>\n",
       "      <th>3</th>\n",
       "      <td>ven</td>\n",
       "    </tr>\n",
       "    <tr>\n",
       "      <th>4</th>\n",
       "      <td>ssw</td>\n",
       "    </tr>\n",
       "    <tr>\n",
       "      <th>5</th>\n",
       "      <td>afr</td>\n",
       "    </tr>\n",
       "  </tbody>\n",
       "</table>\n",
       "</div>"
      ],
      "text/plain": [
       "      lang_id\n",
       "index        \n",
       "1         tsn\n",
       "2         nbl\n",
       "3         ven\n",
       "4         ssw\n",
       "5         afr"
      ]
     },
     "execution_count": 44,
     "metadata": {},
     "output_type": "execute_result"
    }
   ],
   "source": [
    "submission_df.head()"
   ]
  },
  {
   "cell_type": "code",
   "execution_count": 45,
   "id": "5ccb898a",
   "metadata": {},
   "outputs": [],
   "source": [
    "submission_df.to_csv('310322 - Multinomial Naive Bayes model with Count Vectorizer- mod.csv')"
   ]
  },
  {
   "cell_type": "markdown",
   "id": "446e3cdb",
   "metadata": {},
   "source": [
    "##### SVC submission"
   ]
  },
  {
   "cell_type": "code",
   "execution_count": 46,
   "id": "e4afe6be",
   "metadata": {},
   "outputs": [],
   "source": [
    "test_pred = svc.predict(test_X)\n",
    "test_lang_id = le.inverse_transform(test_pred)\n",
    "sub_id = test_df['index'].to_list()\n",
    "sub_pred = test_lang_id.tolist()\n",
    "list_of_tuples = list(zip(sub_id, sub_pred))\n",
    "submission_df = pd.DataFrame(list_of_tuples,\n",
    "                  columns = ['index', 'lang_id'])\n",
    "submission_df.set_index('index', inplace=True)"
   ]
  },
  {
   "cell_type": "code",
   "execution_count": 47,
   "id": "a02b7805",
   "metadata": {},
   "outputs": [],
   "source": [
    "submission_df.to_csv('310322 - Linear SVC model with Tfidf Vectorizer.csv')"
   ]
  },
  {
   "cell_type": "markdown",
   "id": "493db550",
   "metadata": {},
   "source": [
    "##### Tuned MultiNomial"
   ]
  },
  {
   "cell_type": "markdown",
   "id": "be6dd842",
   "metadata": {},
   "source": [
    "This is the final submission"
   ]
  },
  {
   "cell_type": "code",
   "execution_count": 62,
   "id": "89e09515",
   "metadata": {},
   "outputs": [],
   "source": [
    "test_pred = clf.predict(test_text)\n",
    "test_lang_id = le.inverse_transform(test_pred)\n",
    "sub_id = test_df['index'].to_list()\n",
    "sub_pred = test_lang_id.tolist()\n",
    "list_of_tuples = list(zip(sub_id, sub_pred))\n",
    "submission_df = pd.DataFrame(list_of_tuples,\n",
    "                  columns = ['index', 'lang_id'])\n",
    "submission_df.set_index('index', inplace=True)"
   ]
  },
  {
   "cell_type": "code",
   "execution_count": 63,
   "id": "f81ca870",
   "metadata": {},
   "outputs": [],
   "source": [
    "submission_df.to_csv('310322 - Optimised MultiNomial Model with Count Vectorizer.csv')"
   ]
  },
  {
   "cell_type": "code",
   "execution_count": null,
   "id": "d1d18072",
   "metadata": {},
   "outputs": [],
   "source": []
  }
 ],
 "metadata": {
  "kernelspec": {
   "display_name": "Python 3",
   "language": "python",
   "name": "python3"
  },
  "language_info": {
   "codemirror_mode": {
    "name": "ipython",
    "version": 3
   },
   "file_extension": ".py",
   "mimetype": "text/x-python",
   "name": "python",
   "nbconvert_exporter": "python",
   "pygments_lexer": "ipython3",
   "version": "3.8.8"
  }
 },
 "nbformat": 4,
 "nbformat_minor": 5
}
